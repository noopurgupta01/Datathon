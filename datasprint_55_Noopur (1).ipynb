{
  "nbformat": 4,
  "nbformat_minor": 0,
  "metadata": {
    "colab": {
      "name": "datasprint-55-Noopur.ipynb",
      "provenance": [],
      "collapsed_sections": []
    },
    "kernelspec": {
      "name": "python3",
      "display_name": "Python 3"
    }
  },
  "cells": [
    {
      "cell_type": "markdown",
      "metadata": {
        "id": "mhnEIYxyvxgw"
      },
      "source": [
        "**Noopur Gupta**\r\n",
        "\r\n",
        "Data Sprint #19: Classification of Microorganisms of Sukhna and Dhanas Lakes"
      ]
    },
    {
      "cell_type": "code",
      "metadata": {
        "id": "tYCrmtF3hw_P"
      },
      "source": [
        "\r\n",
        "\r\n",
        "import numpy as np        # Fundamental package for linear algebra and multidimensional arrays\r\n",
        "import pandas as pd       # Data analysis and manipultion tool\r\n",
        "import datetime\r\n",
        "\r\n",
        "from sklearn.preprocessing import LabelEncoder\r\n",
        "from sklearn.model_selection import train_test_split\r\n",
        "\r\n",
        "import sklearn\r\n",
        "import matplotlib.pyplot as plt\r\n",
        "import seaborn as sns\r\n",
        "\r\n",
        "from sklearn.ensemble import RandomForestClassifier,  GradientBoostingClassifier\r\n",
        "# import mean squared error from sklearn.metric\r\n",
        "from sklearn.metrics import f1_score\r\n",
        "#Decisoin Tree classifier\r\n",
        "from sklearn.tree import DecisionTreeClassifier\r\n",
        "from xgboost import XGBClassifier\r\n",
        "\r\n",
        "\r\n",
        "\r\n",
        "train_mo_data = pd.read_csv(\"https://raw.githubusercontent.com/dphi-official/Datasets/master/sukhna_dhanas/train_set_label.csv\" )"
      ],
      "execution_count": 25,
      "outputs": []
    },
    {
      "cell_type": "markdown",
      "metadata": {
        "id": "JsFd7uVUjCom"
      },
      "source": [
        "Perform EDA and Data Visualization 👀 to understand the data. Learn more about EDA here. Learn more about data visualization here\r\n",
        "Clean the data if required (like removing or filling missing values, treat outliers, etc.). Learn more about handling missing values here\r\n",
        "Perform Data Preprocessing if you feel it's required. Learn one hot encoding here."
      ]
    },
    {
      "cell_type": "code",
      "metadata": {
        "colab": {
          "base_uri": "https://localhost:8080/",
          "height": 215
        },
        "id": "wLuG51o_h8oX",
        "outputId": "5b40936a-ea43-4240-ee8d-c6f88be07350"
      },
      "source": [
        "train_mo_data.head()\r\n"
      ],
      "execution_count": 26,
      "outputs": [
        {
          "output_type": "execute_result",
          "data": {
            "text/html": [
              "<div>\n",
              "<style scoped>\n",
              "    .dataframe tbody tr th:only-of-type {\n",
              "        vertical-align: middle;\n",
              "    }\n",
              "\n",
              "    .dataframe tbody tr th {\n",
              "        vertical-align: top;\n",
              "    }\n",
              "\n",
              "    .dataframe thead th {\n",
              "        text-align: right;\n",
              "    }\n",
              "</style>\n",
              "<table border=\"1\" class=\"dataframe\">\n",
              "  <thead>\n",
              "    <tr style=\"text-align: right;\">\n",
              "      <th></th>\n",
              "      <th>Solidity</th>\n",
              "      <th>Eccentricity</th>\n",
              "      <th>EquivDiameter</th>\n",
              "      <th>Extrema</th>\n",
              "      <th>FilledArea</th>\n",
              "      <th>Extent</th>\n",
              "      <th>Orientation</th>\n",
              "      <th>EulerNumber</th>\n",
              "      <th>BoundingBox1</th>\n",
              "      <th>BoundingBox2</th>\n",
              "      <th>BoundingBox3</th>\n",
              "      <th>BoundingBox4</th>\n",
              "      <th>ConvexHull1</th>\n",
              "      <th>ConvexHull2</th>\n",
              "      <th>ConvexHull3</th>\n",
              "      <th>ConvexHull4</th>\n",
              "      <th>MajorAxisLength</th>\n",
              "      <th>MinorAxisLength</th>\n",
              "      <th>Perimeter</th>\n",
              "      <th>ConvexArea</th>\n",
              "      <th>Centroid1</th>\n",
              "      <th>Centroid2</th>\n",
              "      <th>Area</th>\n",
              "      <th>microorganism</th>\n",
              "    </tr>\n",
              "  </thead>\n",
              "  <tbody>\n",
              "    <tr>\n",
              "      <th>0</th>\n",
              "      <td>0.711636</td>\n",
              "      <td>0.673498</td>\n",
              "      <td>0.109069</td>\n",
              "      <td>0.870544</td>\n",
              "      <td>0.010808</td>\n",
              "      <td>0.660599</td>\n",
              "      <td>0.094353</td>\n",
              "      <td>0.987915</td>\n",
              "      <td>0.870476</td>\n",
              "      <td>0.447276</td>\n",
              "      <td>0.029022</td>\n",
              "      <td>0.058923</td>\n",
              "      <td>0.875395</td>\n",
              "      <td>0.875395</td>\n",
              "      <td>0.877460</td>\n",
              "      <td>0.871746</td>\n",
              "      <td>0.025669</td>\n",
              "      <td>0.028256</td>\n",
              "      <td>0.010776</td>\n",
              "      <td>0.001776</td>\n",
              "      <td>0.878873</td>\n",
              "      <td>0.453973</td>\n",
              "      <td>0.020195</td>\n",
              "      <td>1</td>\n",
              "    </tr>\n",
              "    <tr>\n",
              "      <th>1</th>\n",
              "      <td>0.184271</td>\n",
              "      <td>0.865533</td>\n",
              "      <td>0.181675</td>\n",
              "      <td>0.306442</td>\n",
              "      <td>0.021235</td>\n",
              "      <td>0.183804</td>\n",
              "      <td>0.484926</td>\n",
              "      <td>0.974488</td>\n",
              "      <td>0.284444</td>\n",
              "      <td>0.345343</td>\n",
              "      <td>0.148896</td>\n",
              "      <td>0.115320</td>\n",
              "      <td>0.304870</td>\n",
              "      <td>0.304870</td>\n",
              "      <td>0.295238</td>\n",
              "      <td>0.290794</td>\n",
              "      <td>0.128062</td>\n",
              "      <td>0.077815</td>\n",
              "      <td>0.044747</td>\n",
              "      <td>0.016309</td>\n",
              "      <td>0.325508</td>\n",
              "      <td>0.360384</td>\n",
              "      <td>0.045702</td>\n",
              "      <td>2</td>\n",
              "    </tr>\n",
              "    <tr>\n",
              "      <th>2</th>\n",
              "      <td>0.431175</td>\n",
              "      <td>0.679469</td>\n",
              "      <td>0.172644</td>\n",
              "      <td>0.750469</td>\n",
              "      <td>0.020929</td>\n",
              "      <td>0.380940</td>\n",
              "      <td>0.891717</td>\n",
              "      <td>0.946626</td>\n",
              "      <td>0.707302</td>\n",
              "      <td>0.227592</td>\n",
              "      <td>0.066246</td>\n",
              "      <td>0.109428</td>\n",
              "      <td>0.728653</td>\n",
              "      <td>0.728653</td>\n",
              "      <td>0.729524</td>\n",
              "      <td>0.723810</td>\n",
              "      <td>0.065495</td>\n",
              "      <td>0.062696</td>\n",
              "      <td>0.049242</td>\n",
              "      <td>0.006400</td>\n",
              "      <td>0.739531</td>\n",
              "      <td>0.255860</td>\n",
              "      <td>0.042004</td>\n",
              "      <td>2</td>\n",
              "    </tr>\n",
              "    <tr>\n",
              "      <th>3</th>\n",
              "      <td>0.712849</td>\n",
              "      <td>0.991839</td>\n",
              "      <td>0.240241</td>\n",
              "      <td>0.271420</td>\n",
              "      <td>0.036976</td>\n",
              "      <td>0.700643</td>\n",
              "      <td>0.016835</td>\n",
              "      <td>0.975159</td>\n",
              "      <td>0.268571</td>\n",
              "      <td>0.468366</td>\n",
              "      <td>0.023344</td>\n",
              "      <td>0.249158</td>\n",
              "      <td>0.270715</td>\n",
              "      <td>0.270715</td>\n",
              "      <td>0.269841</td>\n",
              "      <td>0.268571</td>\n",
              "      <td>0.146561</td>\n",
              "      <td>0.020286</td>\n",
              "      <td>0.035455</td>\n",
              "      <td>0.006678</td>\n",
              "      <td>0.267614</td>\n",
              "      <td>0.568813</td>\n",
              "      <td>0.073303</td>\n",
              "      <td>4</td>\n",
              "    </tr>\n",
              "    <tr>\n",
              "      <th>4</th>\n",
              "      <td>0.338077</td>\n",
              "      <td>0.996782</td>\n",
              "      <td>0.123578</td>\n",
              "      <td>0.045654</td>\n",
              "      <td>0.011389</td>\n",
              "      <td>0.088682</td>\n",
              "      <td>0.219150</td>\n",
              "      <td>0.982544</td>\n",
              "      <td>0.041905</td>\n",
              "      <td>0.630931</td>\n",
              "      <td>0.100946</td>\n",
              "      <td>0.187710</td>\n",
              "      <td>0.041746</td>\n",
              "      <td>0.041746</td>\n",
              "      <td>0.041905</td>\n",
              "      <td>0.041905</td>\n",
              "      <td>0.134704</td>\n",
              "      <td>0.011038</td>\n",
              "      <td>0.034491</td>\n",
              "      <td>0.004833</td>\n",
              "      <td>0.071762</td>\n",
              "      <td>0.699979</td>\n",
              "      <td>0.024521</td>\n",
              "      <td>2</td>\n",
              "    </tr>\n",
              "  </tbody>\n",
              "</table>\n",
              "</div>"
            ],
            "text/plain": [
              "   Solidity  Eccentricity  EquivDiameter  ...  Centroid2      Area  microorganism\n",
              "0  0.711636      0.673498       0.109069  ...   0.453973  0.020195              1\n",
              "1  0.184271      0.865533       0.181675  ...   0.360384  0.045702              2\n",
              "2  0.431175      0.679469       0.172644  ...   0.255860  0.042004              2\n",
              "3  0.712849      0.991839       0.240241  ...   0.568813  0.073303              4\n",
              "4  0.338077      0.996782       0.123578  ...   0.699979  0.024521              2\n",
              "\n",
              "[5 rows x 24 columns]"
            ]
          },
          "metadata": {
            "tags": []
          },
          "execution_count": 26
        }
      ]
    },
    {
      "cell_type": "code",
      "metadata": {
        "id": "dGlZk7UOiCoD",
        "colab": {
          "base_uri": "https://localhost:8080/"
        },
        "outputId": "4d4598ee-fd81-4d42-c660-0c11329f2682"
      },
      "source": [
        "train_mo_data.info()\r\n",
        "print(\"train_mo_data.shape\",train_mo_data.shape)\r\n",
        "print(\"null\",train_mo_data.isnull().sum())\r\n",
        "\r\n",
        "\r\n"
      ],
      "execution_count": 27,
      "outputs": [
        {
          "output_type": "stream",
          "text": [
            "<class 'pandas.core.frame.DataFrame'>\n",
            "RangeIndex: 13824 entries, 0 to 13823\n",
            "Data columns (total 24 columns):\n",
            " #   Column           Non-Null Count  Dtype  \n",
            "---  ------           --------------  -----  \n",
            " 0   Solidity         13824 non-null  float64\n",
            " 1   Eccentricity     13824 non-null  float64\n",
            " 2   EquivDiameter    13824 non-null  float64\n",
            " 3   Extrema          13824 non-null  float64\n",
            " 4   FilledArea       13824 non-null  float64\n",
            " 5   Extent           13824 non-null  float64\n",
            " 6   Orientation      13824 non-null  float64\n",
            " 7   EulerNumber      13824 non-null  float64\n",
            " 8   BoundingBox1     13824 non-null  float64\n",
            " 9   BoundingBox2     13824 non-null  float64\n",
            " 10  BoundingBox3     13824 non-null  float64\n",
            " 11  BoundingBox4     13824 non-null  float64\n",
            " 12  ConvexHull1      13824 non-null  float64\n",
            " 13  ConvexHull2      13824 non-null  float64\n",
            " 14  ConvexHull3      13824 non-null  float64\n",
            " 15  ConvexHull4      13824 non-null  float64\n",
            " 16  MajorAxisLength  13824 non-null  float64\n",
            " 17  MinorAxisLength  13824 non-null  float64\n",
            " 18  Perimeter        13824 non-null  float64\n",
            " 19  ConvexArea       13824 non-null  float64\n",
            " 20  Centroid1        13824 non-null  float64\n",
            " 21  Centroid2        13824 non-null  float64\n",
            " 22  Area             13824 non-null  float64\n",
            " 23  microorganism    13824 non-null  int64  \n",
            "dtypes: float64(23), int64(1)\n",
            "memory usage: 2.5 MB\n",
            "train_mo_data.shape (13824, 24)\n",
            "null Solidity           0\n",
            "Eccentricity       0\n",
            "EquivDiameter      0\n",
            "Extrema            0\n",
            "FilledArea         0\n",
            "Extent             0\n",
            "Orientation        0\n",
            "EulerNumber        0\n",
            "BoundingBox1       0\n",
            "BoundingBox2       0\n",
            "BoundingBox3       0\n",
            "BoundingBox4       0\n",
            "ConvexHull1        0\n",
            "ConvexHull2        0\n",
            "ConvexHull3        0\n",
            "ConvexHull4        0\n",
            "MajorAxisLength    0\n",
            "MinorAxisLength    0\n",
            "Perimeter          0\n",
            "ConvexArea         0\n",
            "Centroid1          0\n",
            "Centroid2          0\n",
            "Area               0\n",
            "microorganism      0\n",
            "dtype: int64\n"
          ],
          "name": "stdout"
        }
      ]
    },
    {
      "cell_type": "code",
      "metadata": {
        "id": "S47uGLtY6mE8",
        "colab": {
          "base_uri": "https://localhost:8080/",
          "height": 280
        },
        "outputId": "52126785-5414-49d4-e39f-9d54f5adb368"
      },
      "source": [
        "train_mo_data['microorganism'].value_counts()\r\n",
        "train_mo_data['microorganism'].value_counts().plot(kind='bar')"
      ],
      "execution_count": 28,
      "outputs": [
        {
          "output_type": "execute_result",
          "data": {
            "text/plain": [
              "<matplotlib.axes._subplots.AxesSubplot at 0x7f10a734fb70>"
            ]
          },
          "metadata": {
            "tags": []
          },
          "execution_count": 28
        },
        {
          "output_type": "display_data",
          "data": {
            "image/png": "[encoded data removed]",
            "text/plain": [
              "<Figure size 432x288 with 1 Axes>"
            ]
          },
          "metadata": {
            "tags": [],
            "needs_background": "light"
          }
        }
      ]
    },
    {
      "cell_type": "code",
      "metadata": {
        "colab": {
          "base_uri": "https://localhost:8080/",
          "height": 215
        },
        "id": "7KQa0joFepPX",
        "outputId": "c8cfc68e-6631-4435-c78f-3ca2e2927d0a"
      },
      "source": [
        "#copy the Dataset\r\n",
        "train_df2 = train_mo_data.copy()\r\n",
        "train_df2.drop('microorganism',axis=1,inplace=True)\r\n",
        "train_df2.head()"
      ],
      "execution_count": 29,
      "outputs": [
        {
          "output_type": "execute_result",
          "data": {
            "text/html": [
              "<div>\n",
              "<style scoped>\n",
              "    .dataframe tbody tr th:only-of-type {\n",
              "        vertical-align: middle;\n",
              "    }\n",
              "\n",
              "    .dataframe tbody tr th {\n",
              "        vertical-align: top;\n",
              "    }\n",
              "\n",
              "    .dataframe thead th {\n",
              "        text-align: right;\n",
              "    }\n",
              "</style>\n",
              "<table border=\"1\" class=\"dataframe\">\n",
              "  <thead>\n",
              "    <tr style=\"text-align: right;\">\n",
              "      <th></th>\n",
              "      <th>Solidity</th>\n",
              "      <th>Eccentricity</th>\n",
              "      <th>EquivDiameter</th>\n",
              "      <th>Extrema</th>\n",
              "      <th>FilledArea</th>\n",
              "      <th>Extent</th>\n",
              "      <th>Orientation</th>\n",
              "      <th>EulerNumber</th>\n",
              "      <th>BoundingBox1</th>\n",
              "      <th>BoundingBox2</th>\n",
              "      <th>BoundingBox3</th>\n",
              "      <th>BoundingBox4</th>\n",
              "      <th>ConvexHull1</th>\n",
              "      <th>ConvexHull2</th>\n",
              "      <th>ConvexHull3</th>\n",
              "      <th>ConvexHull4</th>\n",
              "      <th>MajorAxisLength</th>\n",
              "      <th>MinorAxisLength</th>\n",
              "      <th>Perimeter</th>\n",
              "      <th>ConvexArea</th>\n",
              "      <th>Centroid1</th>\n",
              "      <th>Centroid2</th>\n",
              "      <th>Area</th>\n",
              "    </tr>\n",
              "  </thead>\n",
              "  <tbody>\n",
              "    <tr>\n",
              "      <th>0</th>\n",
              "      <td>0.711636</td>\n",
              "      <td>0.673498</td>\n",
              "      <td>0.109069</td>\n",
              "      <td>0.870544</td>\n",
              "      <td>0.010808</td>\n",
              "      <td>0.660599</td>\n",
              "      <td>0.094353</td>\n",
              "      <td>0.987915</td>\n",
              "      <td>0.870476</td>\n",
              "      <td>0.447276</td>\n",
              "      <td>0.029022</td>\n",
              "      <td>0.058923</td>\n",
              "      <td>0.875395</td>\n",
              "      <td>0.875395</td>\n",
              "      <td>0.877460</td>\n",
              "      <td>0.871746</td>\n",
              "      <td>0.025669</td>\n",
              "      <td>0.028256</td>\n",
              "      <td>0.010776</td>\n",
              "      <td>0.001776</td>\n",
              "      <td>0.878873</td>\n",
              "      <td>0.453973</td>\n",
              "      <td>0.020195</td>\n",
              "    </tr>\n",
              "    <tr>\n",
              "      <th>1</th>\n",
              "      <td>0.184271</td>\n",
              "      <td>0.865533</td>\n",
              "      <td>0.181675</td>\n",
              "      <td>0.306442</td>\n",
              "      <td>0.021235</td>\n",
              "      <td>0.183804</td>\n",
              "      <td>0.484926</td>\n",
              "      <td>0.974488</td>\n",
              "      <td>0.284444</td>\n",
              "      <td>0.345343</td>\n",
              "      <td>0.148896</td>\n",
              "      <td>0.115320</td>\n",
              "      <td>0.304870</td>\n",
              "      <td>0.304870</td>\n",
              "      <td>0.295238</td>\n",
              "      <td>0.290794</td>\n",
              "      <td>0.128062</td>\n",
              "      <td>0.077815</td>\n",
              "      <td>0.044747</td>\n",
              "      <td>0.016309</td>\n",
              "      <td>0.325508</td>\n",
              "      <td>0.360384</td>\n",
              "      <td>0.045702</td>\n",
              "    </tr>\n",
              "    <tr>\n",
              "      <th>2</th>\n",
              "      <td>0.431175</td>\n",
              "      <td>0.679469</td>\n",
              "      <td>0.172644</td>\n",
              "      <td>0.750469</td>\n",
              "      <td>0.020929</td>\n",
              "      <td>0.380940</td>\n",
              "      <td>0.891717</td>\n",
              "      <td>0.946626</td>\n",
              "      <td>0.707302</td>\n",
              "      <td>0.227592</td>\n",
              "      <td>0.066246</td>\n",
              "      <td>0.109428</td>\n",
              "      <td>0.728653</td>\n",
              "      <td>0.728653</td>\n",
              "      <td>0.729524</td>\n",
              "      <td>0.723810</td>\n",
              "      <td>0.065495</td>\n",
              "      <td>0.062696</td>\n",
              "      <td>0.049242</td>\n",
              "      <td>0.006400</td>\n",
              "      <td>0.739531</td>\n",
              "      <td>0.255860</td>\n",
              "      <td>0.042004</td>\n",
              "    </tr>\n",
              "    <tr>\n",
              "      <th>3</th>\n",
              "      <td>0.712849</td>\n",
              "      <td>0.991839</td>\n",
              "      <td>0.240241</td>\n",
              "      <td>0.271420</td>\n",
              "      <td>0.036976</td>\n",
              "      <td>0.700643</td>\n",
              "      <td>0.016835</td>\n",
              "      <td>0.975159</td>\n",
              "      <td>0.268571</td>\n",
              "      <td>0.468366</td>\n",
              "      <td>0.023344</td>\n",
              "      <td>0.249158</td>\n",
              "      <td>0.270715</td>\n",
              "      <td>0.270715</td>\n",
              "      <td>0.269841</td>\n",
              "      <td>0.268571</td>\n",
              "      <td>0.146561</td>\n",
              "      <td>0.020286</td>\n",
              "      <td>0.035455</td>\n",
              "      <td>0.006678</td>\n",
              "      <td>0.267614</td>\n",
              "      <td>0.568813</td>\n",
              "      <td>0.073303</td>\n",
              "    </tr>\n",
              "    <tr>\n",
              "      <th>4</th>\n",
              "      <td>0.338077</td>\n",
              "      <td>0.996782</td>\n",
              "      <td>0.123578</td>\n",
              "      <td>0.045654</td>\n",
              "      <td>0.011389</td>\n",
              "      <td>0.088682</td>\n",
              "      <td>0.219150</td>\n",
              "      <td>0.982544</td>\n",
              "      <td>0.041905</td>\n",
              "      <td>0.630931</td>\n",
              "      <td>0.100946</td>\n",
              "      <td>0.187710</td>\n",
              "      <td>0.041746</td>\n",
              "      <td>0.041746</td>\n",
              "      <td>0.041905</td>\n",
              "      <td>0.041905</td>\n",
              "      <td>0.134704</td>\n",
              "      <td>0.011038</td>\n",
              "      <td>0.034491</td>\n",
              "      <td>0.004833</td>\n",
              "      <td>0.071762</td>\n",
              "      <td>0.699979</td>\n",
              "      <td>0.024521</td>\n",
              "    </tr>\n",
              "  </tbody>\n",
              "</table>\n",
              "</div>"
            ],
            "text/plain": [
              "   Solidity  Eccentricity  EquivDiameter  ...  Centroid1  Centroid2      Area\n",
              "0  0.711636      0.673498       0.109069  ...   0.878873   0.453973  0.020195\n",
              "1  0.184271      0.865533       0.181675  ...   0.325508   0.360384  0.045702\n",
              "2  0.431175      0.679469       0.172644  ...   0.739531   0.255860  0.042004\n",
              "3  0.712849      0.991839       0.240241  ...   0.267614   0.568813  0.073303\n",
              "4  0.338077      0.996782       0.123578  ...   0.071762   0.699979  0.024521\n",
              "\n",
              "[5 rows x 23 columns]"
            ]
          },
          "metadata": {
            "tags": []
          },
          "execution_count": 29
        }
      ]
    },
    {
      "cell_type": "markdown",
      "metadata": {
        "id": "Pb01srThjRbJ"
      },
      "source": [
        "**Droping of Feature with Missing Values**"
      ]
    },
    {
      "cell_type": "code",
      "metadata": {
        "id": "umwCDNp3irOr"
      },
      "source": [
        "X=train_mo_data.drop(['microorganism'],axis=1)\r\n",
        "# X= train_insur_data.drop('Claim',axis=1)\r\n",
        "X.head()\r\n",
        "y = train_mo_data.microorganism\r\n",
        "\r\n",
        "# #TestData\r\n",
        "test_mo_data = pd.read_csv('https://raw.githubusercontent.com/dphi-official/Datasets/master/sukhna_dhanas/test_set_label.csv')\r\n",
        "\r\n",
        "                                                   "
      ],
      "execution_count": 31,
      "outputs": []
    },
    {
      "cell_type": "code",
      "metadata": {
        "id": "dH85geBBfMOu"
      },
      "source": [
        "# ColumnsToLabelEncode=['Agency','Agency Type','Distribution Channel','Product Name','Destination']\r\n",
        "# train_df2=MultiColumnLabelEncoder(ColumnsToLabelEncode).fit_transform(train_df2)"
      ],
      "execution_count": null,
      "outputs": []
    },
    {
      "cell_type": "markdown",
      "metadata": {
        "id": "a5CtcIH17jCd"
      },
      "source": [
        "***Prepare Dataset for Training ***\r\n",
        "1. Convert categorical columns into one hot encoded columns using get_dummies.\r\n",
        "\r\n",
        "2. Split the dataset stratified on the classes so that our training and validation data contains same distribution of both classes."
      ]
    },
    {
      "cell_type": "code",
      "metadata": {
        "id": "u4tVtHlk7iVg"
      },
      "source": [
        "# Break off validation set from training data\r\n",
        "X_train_full, X_valid_full, y_train, y_valid = train_test_split(X, y, train_size=0.8, test_size=0.2,stratify=y,shuffle=True,\r\n",
        "                                                                random_state=0)\r\n",
        "X_test_full = test_mo_data\r\n",
        "\r\n",
        "\r\n",
        "# \"Cardinality\" means the number of unique values in a column\r\n",
        "# Select categorical columns with relatively low cardinality (convenient but arbitrary)\r\n",
        "low_cardinality_cols = [cname for cname in X_train_full.columns if X_train_full[cname].nunique() < 15 and \r\n",
        "                        X_train_full[cname].dtype == \"object\"]\r\n",
        "\r\n",
        "# Select numeric columns\r\n",
        "numeric_cols = [cname for cname in X_train_full.columns if X_train_full[cname].dtype in ['int64', 'float64']]\r\n",
        "\r\n",
        "# Keep selected columns only\r\n",
        "my_cols = low_cardinality_cols + numeric_cols\r\n",
        "X_train = X_train_full[my_cols].copy()\r\n",
        "X_valid = X_valid_full[my_cols].copy()\r\n",
        "X_test = X_test_full[my_cols].copy()\r\n",
        "\r\n",
        "# One-hot encode the data (to shorten the code, we use pandas)\r\n",
        "X_train = pd.get_dummies(X_train)\r\n",
        "X_valid = pd.get_dummies(X_valid)\r\n",
        "X_test = pd.get_dummies(X_test)\r\n",
        "X_train, X_valid = X_train.align(X_valid, join='left', axis=1)\r\n",
        "X_train, X_test = X_train.align(X_test, join='left', axis=1)\r\n",
        "\r\n"
      ],
      "execution_count": 33,
      "outputs": []
    },
    {
      "cell_type": "code",
      "metadata": {
        "colab": {
          "base_uri": "https://localhost:8080/"
        },
        "id": "YktTWMCa9kQc",
        "outputId": "9f53eb43-d3d6-49a2-d5a6-3bec84c58cef"
      },
      "source": [
        "X_all=pd.concat([X_train,X_valid,X_test])\r\n",
        "X_all.shape"
      ],
      "execution_count": 34,
      "outputs": [
        {
          "output_type": "execute_result",
          "data": {
            "text/plain": [
              "(17280, 23)"
            ]
          },
          "metadata": {
            "tags": []
          },
          "execution_count": 34
        }
      ]
    },
    {
      "cell_type": "markdown",
      "metadata": {
        "id": "uz4ijiTJjW_M"
      },
      "source": [
        "**Splitting the data into Train and Validation Set**\r\n",
        "\r\n",
        "We want to check the performance of the model that we built. For this purpose, we always split (both input and output data) the given data into training set which will be used to train the model, and test set which will be used to check how accurately the model is predicting outcomes.\r\n",
        "\r\n",
        "For this purpose we have a class called 'train_test_split' in the 'sklearn.model_selection' module.\r\n"
      ]
    },
    {
      "cell_type": "code",
      "metadata": {
        "colab": {
          "base_uri": "https://localhost:8080/",
          "height": 215
        },
        "id": "Bq4YVSxgjWpo",
        "outputId": "c9cda918-cba2-40b2-a108-50af7e6ba4b4"
      },
      "source": [
        "X_all.head()\r\n"
      ],
      "execution_count": 35,
      "outputs": [
        {
          "output_type": "execute_result",
          "data": {
            "text/html": [
              "<div>\n",
              "<style scoped>\n",
              "    .dataframe tbody tr th:only-of-type {\n",
              "        vertical-align: middle;\n",
              "    }\n",
              "\n",
              "    .dataframe tbody tr th {\n",
              "        vertical-align: top;\n",
              "    }\n",
              "\n",
              "    .dataframe thead th {\n",
              "        text-align: right;\n",
              "    }\n",
              "</style>\n",
              "<table border=\"1\" class=\"dataframe\">\n",
              "  <thead>\n",
              "    <tr style=\"text-align: right;\">\n",
              "      <th></th>\n",
              "      <th>Solidity</th>\n",
              "      <th>Eccentricity</th>\n",
              "      <th>EquivDiameter</th>\n",
              "      <th>Extrema</th>\n",
              "      <th>FilledArea</th>\n",
              "      <th>Extent</th>\n",
              "      <th>Orientation</th>\n",
              "      <th>EulerNumber</th>\n",
              "      <th>BoundingBox1</th>\n",
              "      <th>BoundingBox2</th>\n",
              "      <th>BoundingBox3</th>\n",
              "      <th>BoundingBox4</th>\n",
              "      <th>ConvexHull1</th>\n",
              "      <th>ConvexHull2</th>\n",
              "      <th>ConvexHull3</th>\n",
              "      <th>ConvexHull4</th>\n",
              "      <th>MajorAxisLength</th>\n",
              "      <th>MinorAxisLength</th>\n",
              "      <th>Perimeter</th>\n",
              "      <th>ConvexArea</th>\n",
              "      <th>Centroid1</th>\n",
              "      <th>Centroid2</th>\n",
              "      <th>Area</th>\n",
              "    </tr>\n",
              "  </thead>\n",
              "  <tbody>\n",
              "    <tr>\n",
              "      <th>5628</th>\n",
              "      <td>0.684153</td>\n",
              "      <td>0.880362</td>\n",
              "      <td>0.124980</td>\n",
              "      <td>0.497186</td>\n",
              "      <td>0.013603</td>\n",
              "      <td>0.458140</td>\n",
              "      <td>0.630011</td>\n",
              "      <td>0.994293</td>\n",
              "      <td>0.459683</td>\n",
              "      <td>0.536907</td>\n",
              "      <td>0.066877</td>\n",
              "      <td>0.050505</td>\n",
              "      <td>0.459836</td>\n",
              "      <td>0.459836</td>\n",
              "      <td>0.460317</td>\n",
              "      <td>0.459683</td>\n",
              "      <td>0.039350</td>\n",
              "      <td>0.023884</td>\n",
              "      <td>0.013392</td>\n",
              "      <td>0.002316</td>\n",
              "      <td>0.473021</td>\n",
              "      <td>0.531799</td>\n",
              "      <td>0.024959</td>\n",
              "    </tr>\n",
              "    <tr>\n",
              "      <th>2064</th>\n",
              "      <td>0.743983</td>\n",
              "      <td>0.960987</td>\n",
              "      <td>0.231110</td>\n",
              "      <td>0.192225</td>\n",
              "      <td>0.034965</td>\n",
              "      <td>0.353746</td>\n",
              "      <td>0.211388</td>\n",
              "      <td>0.972328</td>\n",
              "      <td>0.180188</td>\n",
              "      <td>0.217957</td>\n",
              "      <td>0.091121</td>\n",
              "      <td>0.147008</td>\n",
              "      <td>0.189624</td>\n",
              "      <td>0.189624</td>\n",
              "      <td>0.185494</td>\n",
              "      <td>0.182659</td>\n",
              "      <td>0.103792</td>\n",
              "      <td>0.029374</td>\n",
              "      <td>0.031669</td>\n",
              "      <td>0.006102</td>\n",
              "      <td>0.212597</td>\n",
              "      <td>0.267931</td>\n",
              "      <td>0.069306</td>\n",
              "    </tr>\n",
              "    <tr>\n",
              "      <th>3341</th>\n",
              "      <td>0.397985</td>\n",
              "      <td>0.913912</td>\n",
              "      <td>0.074655</td>\n",
              "      <td>0.795497</td>\n",
              "      <td>0.005517</td>\n",
              "      <td>0.283304</td>\n",
              "      <td>0.609244</td>\n",
              "      <td>0.986908</td>\n",
              "      <td>0.777778</td>\n",
              "      <td>0.640598</td>\n",
              "      <td>0.066246</td>\n",
              "      <td>0.038721</td>\n",
              "      <td>0.775459</td>\n",
              "      <td>0.775459</td>\n",
              "      <td>0.777778</td>\n",
              "      <td>0.778095</td>\n",
              "      <td>0.036420</td>\n",
              "      <td>0.018359</td>\n",
              "      <td>0.023729</td>\n",
              "      <td>0.001934</td>\n",
              "      <td>0.799996</td>\n",
              "      <td>0.631090</td>\n",
              "      <td>0.011473</td>\n",
              "    </tr>\n",
              "    <tr>\n",
              "      <th>2791</th>\n",
              "      <td>0.682552</td>\n",
              "      <td>0.658632</td>\n",
              "      <td>0.151280</td>\n",
              "      <td>0.896811</td>\n",
              "      <td>0.018264</td>\n",
              "      <td>0.666659</td>\n",
              "      <td>0.929813</td>\n",
              "      <td>0.974152</td>\n",
              "      <td>0.867302</td>\n",
              "      <td>0.427944</td>\n",
              "      <td>0.039117</td>\n",
              "      <td>0.077441</td>\n",
              "      <td>0.864643</td>\n",
              "      <td>0.864643</td>\n",
              "      <td>0.867302</td>\n",
              "      <td>0.867302</td>\n",
              "      <td>0.033468</td>\n",
              "      <td>0.035855</td>\n",
              "      <td>0.020521</td>\n",
              "      <td>0.003180</td>\n",
              "      <td>0.881471</td>\n",
              "      <td>0.445046</td>\n",
              "      <td>0.033851</td>\n",
              "    </tr>\n",
              "    <tr>\n",
              "      <th>2409</th>\n",
              "      <td>0.168408</td>\n",
              "      <td>0.981720</td>\n",
              "      <td>0.219246</td>\n",
              "      <td>0.949969</td>\n",
              "      <td>0.031751</td>\n",
              "      <td>0.050051</td>\n",
              "      <td>0.689358</td>\n",
              "      <td>0.931521</td>\n",
              "      <td>0.673651</td>\n",
              "      <td>0.549209</td>\n",
              "      <td>0.281388</td>\n",
              "      <td>0.293771</td>\n",
              "      <td>0.676154</td>\n",
              "      <td>0.676154</td>\n",
              "      <td>0.673651</td>\n",
              "      <td>0.685079</td>\n",
              "      <td>0.255642</td>\n",
              "      <td>0.056345</td>\n",
              "      <td>0.104026</td>\n",
              "      <td>0.024249</td>\n",
              "      <td>0.796577</td>\n",
              "      <td>0.725174</td>\n",
              "      <td>0.062688</td>\n",
              "    </tr>\n",
              "  </tbody>\n",
              "</table>\n",
              "</div>"
            ],
            "text/plain": [
              "      Solidity  Eccentricity  EquivDiameter  ...  Centroid1  Centroid2      Area\n",
              "5628  0.684153      0.880362       0.124980  ...   0.473021   0.531799  0.024959\n",
              "2064  0.743983      0.960987       0.231110  ...   0.212597   0.267931  0.069306\n",
              "3341  0.397985      0.913912       0.074655  ...   0.799996   0.631090  0.011473\n",
              "2791  0.682552      0.658632       0.151280  ...   0.881471   0.445046  0.033851\n",
              "2409  0.168408      0.981720       0.219246  ...   0.796577   0.725174  0.062688\n",
              "\n",
              "[5 rows x 23 columns]"
            ]
          },
          "metadata": {
            "tags": []
          },
          "execution_count": 35
        }
      ]
    },
    {
      "cell_type": "code",
      "metadata": {
        "colab": {
          "base_uri": "https://localhost:8080/"
        },
        "id": "7PUxKvnXhbLv",
        "outputId": "7619a7c9-82b9-4fe1-f484-56ad56b6e7fa"
      },
      "source": [
        "X=X_all[:train_df2.shape[0]]\r\n",
        "X_test=X_all[train_df2.shape[0]:]\r\n",
        "X.shape, X_test.shape"
      ],
      "execution_count": 36,
      "outputs": [
        {
          "output_type": "execute_result",
          "data": {
            "text/plain": [
              "((13824, 23), (3456, 23))"
            ]
          },
          "metadata": {
            "tags": []
          },
          "execution_count": 36
        }
      ]
    },
    {
      "cell_type": "code",
      "metadata": {
        "colab": {
          "base_uri": "https://localhost:8080/"
        },
        "id": "sLQHavhq-rHN",
        "outputId": "9e02c2f5-3ea4-4a81-fc65-4d7a1f8bedd1"
      },
      "source": [
        "y=pd.concat([y_train,y_valid])\r\n",
        "y.shape"
      ],
      "execution_count": 37,
      "outputs": [
        {
          "output_type": "execute_result",
          "data": {
            "text/plain": [
              "(13824,)"
            ]
          },
          "metadata": {
            "tags": []
          },
          "execution_count": 37
        }
      ]
    },
    {
      "cell_type": "code",
      "metadata": {
        "id": "olUFS5ry-VyO"
      },
      "source": [
        "# X = X_all.shape[0]"
      ],
      "execution_count": null,
      "outputs": []
    },
    {
      "cell_type": "code",
      "metadata": {
        "id": "BjbR3cC8jnGc",
        "colab": {
          "base_uri": "https://localhost:8080/"
        },
        "outputId": "462dd02a-6135-42f0-8dc1-523162d0239f"
      },
      "source": [
        "from sklearn.metrics import classification_report\r\n",
        "from sklearn.ensemble import RandomForestClassifier, AdaBoostClassifier, GradientBoostingClassifier\r\n",
        "# class_weights = class_weight.compute_class_weight('balanced', np.unique(y), y.values)\r\n",
        "baseline = RandomForestClassifier(class_weight='balanced',random_state=42)\r\n",
        "baseline.fit(X,y)\r\n",
        "preds = baseline.predict(X)\r\n",
        "print(classification_report(y,preds))\r\n"
      ],
      "execution_count": 38,
      "outputs": [
        {
          "output_type": "stream",
          "text": [
            "              precision    recall  f1-score   support\n",
            "\n",
            "           1       1.00      1.00      1.00      3456\n",
            "           2       1.00      1.00      1.00      3456\n",
            "           3       1.00      1.00      1.00      3456\n",
            "           4       1.00      1.00      1.00      3456\n",
            "\n",
            "    accuracy                           1.00     13824\n",
            "   macro avg       1.00      1.00      1.00     13824\n",
            "weighted avg       1.00      1.00      1.00     13824\n",
            "\n"
          ],
          "name": "stdout"
        }
      ]
    },
    {
      "cell_type": "code",
      "metadata": {
        "id": "qUH6Kh5ZhyK4"
      },
      "source": [
        "preds = baseline.predict(X_test)"
      ],
      "execution_count": 39,
      "outputs": []
    },
    {
      "cell_type": "code",
      "metadata": {
        "colab": {
          "base_uri": "https://localhost:8080/"
        },
        "id": "U4XuajNQh1vy",
        "outputId": "216066a0-aa69-48b3-a8fc-4a7ef069b58b"
      },
      "source": [
        "preds.shape"
      ],
      "execution_count": 40,
      "outputs": [
        {
          "output_type": "execute_result",
          "data": {
            "text/plain": [
              "(3456,)"
            ]
          },
          "metadata": {
            "tags": []
          },
          "execution_count": 40
        }
      ]
    },
    {
      "cell_type": "code",
      "metadata": {
        "colab": {
          "base_uri": "https://localhost:8080/"
        },
        "id": "K9-HJDOeh4j-",
        "outputId": "d9047bfa-0622-41ba-c4ad-00da78ceda10"
      },
      "source": [
        "preds[0]"
      ],
      "execution_count": 41,
      "outputs": [
        {
          "output_type": "execute_result",
          "data": {
            "text/plain": [
              "3"
            ]
          },
          "metadata": {
            "tags": []
          },
          "execution_count": 41
        }
      ]
    },
    {
      "cell_type": "code",
      "metadata": {
        "colab": {
          "base_uri": "https://localhost:8080/",
          "height": 17
        },
        "id": "GkIYJsP1h7qG",
        "outputId": "c6e2d2a9-30af-4c67-eb50-01d05e87c5f5"
      },
      "source": [
        "res = pd.DataFrame(preds)\r\n",
        "res.columns = ['prediction']\r\n",
        "\r\n",
        "from google.colab import files\r\n",
        "res.to_csv(\"submission_baseline.csv\",index=False)\r\n",
        "files.download(\"submission_baseline.csv\")"
      ],
      "execution_count": 42,
      "outputs": [
        {
          "output_type": "display_data",
          "data": {
            "application/javascript": [
              "\n",
              "    async function download(id, filename, size) {\n",
              "      if (!google.colab.kernel.accessAllowed) {\n",
              "        return;\n",
              "      }\n",
              "      const div = document.createElement('div');\n",
              "      const label = document.createElement('label');\n",
              "      label.textContent = `Downloading \"${filename}\": `;\n",
              "      div.appendChild(label);\n",
              "      const progress = document.createElement('progress');\n",
              "      progress.max = size;\n",
              "      div.appendChild(progress);\n",
              "      document.body.appendChild(div);\n",
              "\n",
              "      const buffers = [];\n",
              "      let downloaded = 0;\n",
              "\n",
              "      const channel = await google.colab.kernel.comms.open(id);\n",
              "      // Send a message to notify the kernel that we're ready.\n",
              "      channel.send({})\n",
              "\n",
              "      for await (const message of channel.messages) {\n",
              "        // Send a message to notify the kernel that we're ready.\n",
              "        channel.send({})\n",
              "        if (message.buffers) {\n",
              "          for (const buffer of message.buffers) {\n",
              "            buffers.push(buffer);\n",
              "            downloaded += buffer.byteLength;\n",
              "            progress.value = downloaded;\n",
              "          }\n",
              "        }\n",
              "      }\n",
              "      const blob = new Blob(buffers, {type: 'application/binary'});\n",
              "      const a = document.createElement('a');\n",
              "      a.href = window.URL.createObjectURL(blob);\n",
              "      a.download = filename;\n",
              "      div.appendChild(a);\n",
              "      a.click();\n",
              "      div.remove();\n",
              "    }\n",
              "  "
            ],
            "text/plain": [
              "<IPython.core.display.Javascript object>"
            ]
          },
          "metadata": {
            "tags": []
          }
        },
        {
          "output_type": "display_data",
          "data": {
            "application/javascript": [
              "download(\"download_d722f1aa-d883-4836-9d64-c07ee4e5b6ed\", \"submission_baseline.csv\", 6923)"
            ],
            "text/plain": [
              "<IPython.core.display.Javascript object>"
            ]
          },
          "metadata": {
            "tags": []
          }
        }
      ]
    },
    {
      "cell_type": "code",
      "metadata": {
        "colab": {
          "base_uri": "https://localhost:8080/"
        },
        "id": "IXAsfma7iCVi",
        "outputId": "68ad5d91-f4c6-4cee-e36e-6675880ba802"
      },
      "source": [
        "res['prediction'].value_counts()"
      ],
      "execution_count": 43,
      "outputs": [
        {
          "output_type": "execute_result",
          "data": {
            "text/plain": [
              "2    870\n",
              "3    866\n",
              "4    864\n",
              "1    856\n",
              "Name: prediction, dtype: int64"
            ]
          },
          "metadata": {
            "tags": []
          },
          "execution_count": 43
        }
      ]
    }
  ]
}